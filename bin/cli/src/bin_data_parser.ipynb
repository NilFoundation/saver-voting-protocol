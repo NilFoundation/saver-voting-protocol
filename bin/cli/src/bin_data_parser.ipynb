{
 "cells": [
  {
   "cell_type": "code",
   "execution_count": null,
   "metadata": {},
   "outputs": [],
   "source": [
    "import binascii\n",
    "\n",
    "voters_n = 4\n",
    "path_suffix = '../../../cmake-build-release/bin/cli/'\n",
    "vi_pathes = [f'{path_suffix}verification_input{i}.bin' for i in range(voters_n)]\n",
    "proof_pathes = [f'{path_suffix}proof{i}.bin' for i in range(voters_n)]\n",
    "provkey_pathes = [f'{path_suffix}proving_key{i}.bin' for i in range(voters_n)]\n",
    "vkey_pathes = [f'{path_suffix}verification_key{i}.bin' for i in range(voters_n)]\n",
    "pubkey_pathes = [f'{path_suffix}public_key{i}.bin' for i in range(voters_n)]\n",
    "ct_pathes = [f'{path_suffix}cipher_text{i}.bin' for i in range(voters_n)]\n",
    "eid_pathes = [f'{path_suffix}eid{i}.bin' for i in range(voters_n)]\n",
    "sn_pathes = [f'{path_suffix}sn{i}.bin' for i in range(voters_n)]\n",
    "rt_pathes = [f'{path_suffix}rt{i}.bin' for i in range(voters_n)]\n",
    "\n",
    "genaddr_suffix = '../../../share/tvm/genaddr-output/'\n",
    "admmin_genaddr_path = f'{genaddr_suffix}genaddr-output.txt'\n",
    "voters_genaddr_pathes = [f'{genaddr_suffix}genaddr-output{i}.txt' for i in range(voters_n)]\n",
    "\n",
    "admin_lscs_name = 'voting_admin'\n",
    "voter_lscs_name = 'voting_voter'\n"
   ]
  },
  {
   "cell_type": "code",
   "execution_count": null,
   "metadata": {},
   "outputs": [],
   "source": [
    "import re\n",
    "\n",
    "def find_address(path):\n",
    "    addr = ''\n",
    "    with open(path, 'r') as f:\n",
    "        output = f.read()\n",
    "    m = re.search(r'Raw address: (.+?)\\n', output)\n",
    "    if m:\n",
    "        addr = m.group(1)\n",
    "        print(addr)\n",
    "    \n",
    "    return addr\n",
    "\n",
    "\n",
    "admin_addr = find_address(admmin_genaddr_path)\n",
    "\n",
    "voters_lscs_addreses = []\n",
    "for voter_genaddr_path in voters_genaddr_pathes:\n",
    "    voters_lscs_addreses.append(find_address(voter_genaddr_path))\n"
   ]
  },
  {
   "cell_type": "code",
   "execution_count": null,
   "metadata": {},
   "outputs": [],
   "source": [
    "vi_n = []\n",
    "for vi_path in vi_pathes:\n",
    "\n",
    "    with open(vi_path, 'rb') as f:\n",
    "        hexdata = binascii.hexlify(f.read())\n",
    "        hexdata_str = '01' + hexdata.decode(\"ascii\")\n",
    "        vi_n.append(hexdata_str)\n",
    "#         print(hexdata.decode(\"ascii\"))\n",
    "    \n",
    "#     print()\n",
    "#     print()\n",
    "\n",
    "# print(len(vi_n[0])/2)\n",
    "# print(len(proof_n[0] + vkey_n[0] + pubkey_n[0] + ct_n[0] + eid_n[0] + sn_n[0] + rt_n[0]))\n",
    "# print(vi_n[0] == proof_n[0] + vkey_n[0] + pubkey_n[0] + ct_n[0] + eid_n[0] + sn_n[0] + rt_n[0])"
   ]
  },
  {
   "cell_type": "code",
   "execution_count": null,
   "metadata": {},
   "outputs": [],
   "source": [
    "eid_n = []\n",
    "for eid_path in eid_pathes:\n",
    "\n",
    "    with open(eid_path, 'rb') as f:\n",
    "        hexdata = binascii.hexlify(f.read())\n",
    "        eid_n.append(hexdata.decode(\"ascii\"))\n",
    "#         print(hexdata.decode(\"ascii\"))\n",
    "    \n",
    "#     print()\n",
    "#     print()"
   ]
  },
  {
   "cell_type": "code",
   "execution_count": null,
   "metadata": {},
   "outputs": [],
   "source": [
    "sn_n = []\n",
    "for sn_path in sn_pathes:\n",
    "\n",
    "    with open(sn_path, 'rb') as f:\n",
    "        hexdata = binascii.hexlify(f.read())\n",
    "        sn_n.append(hexdata.decode(\"ascii\"))\n",
    "#         print(hexdata.decode(\"ascii\"))\n",
    "    \n",
    "#     print()\n",
    "#     print()"
   ]
  },
  {
   "cell_type": "code",
   "execution_count": null,
   "metadata": {},
   "outputs": [],
   "source": [
    "rt_n = []\n",
    "for rt_path in rt_pathes:\n",
    "\n",
    "    with open(rt_path, 'rb') as f:\n",
    "        hexdata = binascii.hexlify(f.read())\n",
    "        rt_n.append(hexdata.decode(\"ascii\"))\n",
    "#         print(hexdata.decode(\"ascii\"))\n",
    "        \n",
    "    \n",
    "#     print()\n",
    "#     print()"
   ]
  },
  {
   "cell_type": "code",
   "execution_count": null,
   "metadata": {},
   "outputs": [],
   "source": [
    "proof_n = []\n",
    "for proof_path in proof_pathes:\n",
    "\n",
    "    with open(proof_path, 'rb') as f:\n",
    "        hexdata = binascii.hexlify(f.read())\n",
    "        proof_n.append(hexdata.decode(\"ascii\"))\n",
    "#         print(hexdata.decode(\"ascii\"))\n",
    "    \n",
    "#     print()\n",
    "#     print()\n",
    "# print(proof_n[0])"
   ]
  },
  {
   "cell_type": "code",
   "execution_count": null,
   "metadata": {},
   "outputs": [],
   "source": [
    "vkey_n = []\n",
    "for vkey_path in vkey_pathes:\n",
    "\n",
    "    with open(vkey_path, 'rb') as f:\n",
    "        hexdata = binascii.hexlify(f.read())\n",
    "        vkey_n.append(hexdata.decode(\"ascii\"))\n",
    "#         print(hexdata.decode(\"ascii\"))\n",
    "    \n",
    "#     print()\n",
    "#     print()\n",
    "\n",
    "assert vkey_n[0] == vkey_n[1]"
   ]
  },
  {
   "cell_type": "code",
   "execution_count": null,
   "metadata": {},
   "outputs": [],
   "source": [
    "provkey_n = []\n",
    "for provkey_path in provkey_pathes:\n",
    "\n",
    "    with open(provkey_path, 'rb') as f:\n",
    "        hexdata = binascii.hexlify(f.read())\n",
    "        provkey_n.append(hexdata.decode(\"ascii\"))\n",
    "        print(hexdata.decode(\"ascii\"))\n",
    "    \n",
    "#     print()\n",
    "#     print()\n",
    "\n",
    "assert provkey_n[0] == provkey_n[1]\n",
    "assert provkey_n[0] == provkey_n[2]\n",
    "assert provkey_n[0] == provkey_n[3]"
   ]
  },
  {
   "cell_type": "code",
   "execution_count": null,
   "metadata": {},
   "outputs": [],
   "source": [
    "pubkey_n = []\n",
    "for pubkey_path in pubkey_pathes:\n",
    "\n",
    "    with open(pubkey_path, 'rb') as f:\n",
    "        hexdata = binascii.hexlify(f.read())\n",
    "        pubkey_n.append(hexdata.decode(\"ascii\"))\n",
    "#         print(hexdata.decode(\"ascii\"))\n",
    "    \n",
    "#     print()\n",
    "#     print()\n",
    "\n",
    "assert pubkey_n[0] == pubkey_n[1]\n",
    "assert pubkey_n[0] == pubkey_n[2]\n",
    "assert pubkey_n[0] == pubkey_n[3]"
   ]
  },
  {
   "cell_type": "code",
   "execution_count": null,
   "metadata": {},
   "outputs": [],
   "source": [
    "ct_n = []\n",
    "for ct_path in ct_pathes:\n",
    "\n",
    "    with open(ct_path, 'rb') as f:\n",
    "        hexdata = binascii.hexlify(f.read())\n",
    "        ct_n.append(hexdata.decode(\"ascii\"))\n",
    "        print(hexdata.decode(\"ascii\"))\n",
    "    \n",
    "#     print()\n",
    "#     print()\n",
    "# print(ct_n[0])"
   ]
  },
  {
   "cell_type": "code",
   "execution_count": null,
   "metadata": {},
   "outputs": [],
   "source": [
    "fr_size = 32\n",
    "g1_size = 48\n",
    "std_size_t_size = 8\n",
    "proof_len = 3 * g1_size\n",
    "eid_len = 64 * fr_size\n",
    "sn_len = 255 * fr_size\n",
    "\n",
    "proof_end = 1 + len(proof_n[0]) // 2\n",
    "ct_offset = 1 + len(proof_n[0]) // 2 + len(vkey_n[0]) // 2 + len(pubkey_n[0]) // 2\n",
    "ct_end = ct_offset + len(ct_n[0]) // 2\n",
    "eid_offset = ct_end + std_size_t_size\n",
    "sn_offset = eid_offset + eid_len\n",
    "rt_offset = sn_offset + sn_len\n"
   ]
  },
  {
   "cell_type": "code",
   "execution_count": null,
   "metadata": {},
   "outputs": [],
   "source": [
    "# def print_update_ballot_cmd(idx, addr, lscs_name, eid, sn, proof_rerand, ct_rerand):\n",
    "#     new_cmd = f'tonos-cli call {addr} update_ballot \\'{{\"eid\":\"{eid}\", \"sn\":\"{sn}\", \"proof_rerand\":\"{proof_rerand}\", \"ct_rerand\":\"{ct_rerand}\"}}\\' --abi {lscs_name}.abi.json --sign keys/{lscs_name}{idx}.keys.json\\n\\n'\n",
    "#     print(new_cmd)\n",
    "\n",
    "\n",
    "# def print_update_ballot_cmd_step(idx, step, addr, lscs_name, eid, sn, proof_rerand, ct_rerand):\n",
    "#     for i in range(0, len(eid), step):\n",
    "#         new_cmd = f'tonos-cli call {addr} update_ballot \\'{{\"eid\":\"{eid[i: i + step]}\", \"sn\":\"\", \"proof_rerand\":\"\", \"ct_rerand\":\"\"}}\\' --abi {lscs_name}.abi.json --sign keys/{lscs_name}{idx}.keys.json\\n\\n'\n",
    "#         print(new_cmd)\n",
    "#         print()\n",
    "\n",
    "#     for i in range(0, len(sn), step):\n",
    "#         new_cmd = f'tonos-cli call {addr} update_ballot \\'{{\"eid\":\"\", \"sn\":\"{sn[i: i + step]}\", \"proof_rerand\":\"\", \"ct_rerand\":\"\"}}\\' --abi {lscs_name}.abi.json --sign keys/{lscs_name}{idx}.keys.json\\n\\n'\n",
    "#         print(new_cmd)\n",
    "#         print()\n",
    "\n",
    "#     for i in range(0, len(proof_rerand), step):\n",
    "#         new_cmd = f'tonos-cli call {addr} update_ballot \\'{{\"eid\":\"\", \"sn\":\"\", \"proof_rerand\":\"{proof_rerand[i: i + step]}\", \"ct_rerand\":\"\"}}\\' --abi {lscs_name}.abi.json --sign keys/{lscs_name}{idx}.keys.json\\n\\n'\n",
    "#         print(new_cmd)\n",
    "#         print()\n",
    "\n",
    "#     for i in range(0, len(ct_rerand), step):\n",
    "#         new_cmd = f'tonos-cli call {addr} update_ballot \\'{{\"eid\":\"\", \"sn\":\"\", \"proof_rerand\":\"\", \"ct_rerand\":\"{ct_rerand[i: i + step]}\"}}\\' --abi {lscs_name}.abi.json --sign keys/{lscs_name}{idx}.keys.json\\n\\n'\n",
    "#         print(new_cmd)\n",
    "#         print()\n",
    "\n",
    "\n",
    "def print_update_ballot_cmd_step(idx, step, addr, lscs_name, vi):\n",
    "    for i in range(0, len(vi), step):\n",
    "        new_cmd = f'tonos-cli call {addr} update_ballot \\'{{\"vi\":\"{vi[i: i + step]}\"}}\\' --abi {lscs_name}.abi.json --sign keys/{lscs_name}{idx}.keys.json\\n\\n'\n",
    "        print(new_cmd)\n",
    "        print()\n",
    "\n",
    "def print_commit_ballot_cmd(idx, addr, lscs_name, proof_end, ct_begin, ct_end, eid_begin, sn_begin, rt_begin):\n",
    "    new_cmd = f'tonos-cli call {addr} commit_ballot \\'{{\"proof_end\":{proof_end},\"ct_begin\":{ct_begin},\"ct_begin\":{ct_end},\"eid_begin\":{eid_begin},\"sn_begin\":{sn_begin},\"rt_begin\":{rt_begin} }}\\' --abi {lscs_name}.abi.json --sign keys/{lscs_name}{idx}.keys.json\\n\\n'\n",
    "    print(new_cmd)\n",
    "\n",
    "\n",
    "# def print_update_session_data_cmd_step(idx, step, addr, lscs_name, crs_vk, pk_eid, rt):\n",
    "#     for i in range(0, len(crs_vk), step):\n",
    "#         new_cmd = f'tonos-cli call {addr} update_session_data \\'{{\"crs_vk\":\"{crs_vk[i: i + step]}\", \"pk_eid\":\"\", \"rt\":\"\"}}\\' --abi {lscs_name}.abi.json --sign keys/{lscs_name}{idx}.keys.json\\n\\n'\n",
    "#         print(new_cmd)\n",
    "#         print()\n",
    "\n",
    "#     for i in range(0, len(pk_eid), step):\n",
    "#         new_cmd = f'tonos-cli call {addr} update_session_data \\'{{\"crs_vk\":\"\", \"pk_eid\":\"{pk_eid[i: i + step]}\", \"rt\":\"\"}}\\' --abi {lscs_name}.abi.json --sign keys/{lscs_name}{idx}.keys.json\\n\\n'\n",
    "#         print(new_cmd)\n",
    "#         print()\n",
    "\n",
    "#     for i in range(0, len(rt), step):\n",
    "#         new_cmd = f'tonos-cli call {addr} update_session_data \\'{{\"crs_vk\":\"\", \"pk_eid\":\"\", \"rt\":\"{rt[i: i + step]}\"}}\\' --abi {lscs_name}.abi.json --sign keys/{lscs_name}{idx}.keys.json\\n\\n'\n",
    "#         print(new_cmd)\n",
    "#         print()\n",
    "        \n",
    "        \n",
    "def print_construct_admin_cmd(lscs_name, pk, vk):\n",
    "    new_cmd = f'tonos-cli deploy --abi {lscs_name}.abi.json --sign keys/{lscs_name}.keys.json {lscs_name}.tvc \\'{{\"pk\":\"{pk}\", \"vk\":\"{vk}\"}}\\'\\n\\n'\n",
    "    print(new_cmd)   \n",
    "\n",
    "    \n",
    "def print_construct_admin_cmd_step(step, addr, lscs_name, pk, vk):\n",
    "    new_cmd = f'tonos-cli deploy --abi {lscs_name}.abi.json --sign keys/{lscs_name}.keys.json {lscs_name}.tvc \\'{{}}\\'\\n\\n'\n",
    "    print(new_cmd)   \n",
    "    \n",
    "    for i in range(0, len(pk), step):\n",
    "        new_cmd = f'tonos-cli call {addr} update_crs \\'{{\"pk\":\"{pk[i: i + step]}\", \"vk\":\"\"}}\\' --abi {lscs_name}.abi.json --sign keys/{lscs_name}.keys.json\\n\\n'\n",
    "        print(new_cmd)\n",
    "        print()\n",
    "    \n",
    "    for i in range(0, len(vk), step):\n",
    "        new_cmd = f'tonos-cli call {addr} update_crs \\'{{\"pk\":\"\", \"vk\":\"{vk[i: i + step]}\"}}\\' --abi {lscs_name}.abi.json --sign keys/{lscs_name}.keys.json\\n\\n'\n",
    "        print(new_cmd)\n",
    "        print()\n",
    "\n",
    "\n",
    "def print_construct_voter_cmd(idx, lscs_name, pk, admin_addr):\n",
    "    new_cmd = f'tonos-cli deploy --abi {lscs_name}.abi.json --sign keys/{lscs_name}{idx}.keys.json {lscs_name}.tvc \\'{{\"pk\":\"{pk}\", \"admin\":\"{admin_addr}\"}}\\'\\n\\n'\n",
    "    print(new_cmd)  \n",
    "    \n",
    "    \n",
    "def print_giver_cmd(addr):\n",
    "    new_cmd = f'tonos-cli call 0:ece57bcc6c530283becbbd8a3b24d3c5987cdddc3c8b7b33be6e4a6312490415 sendTransaction \\'{{\"dest\":\"{addr}\",\"value\":\"100000000000\",\"bounce\":false}}\\' --abi GiverV2.abi.json --sign GiverV2.keys.json\\n\\n'\n",
    "    print(new_cmd)  \n",
    "\n",
    "def print_custler_giver_cmd(addr):\n",
    "    print('. ./env.sh')\n",
    "    print(f'DST_ACCOUNT=\"{addr}\"')\n",
    "    print('$CALL_TC call \"$Marvin_Addr\" grant \"{\\\\\"addr\\\\\":\\\\\"$DST_ACCOUNT\\\\\"}\" --abi \"${Marvin_ABI}\"')\n",
    "\n",
    "def print_init_voting_cmd(admin_addr, lscs_name, eid, pk_eid, vk_eid, voters_addr, rt):\n",
    "    addresses = '[' + ','.join(f'\"{addr}\"' for addr in voters_addr) + ']'\n",
    "    new_cmd = f'tonos-cli call {admin_addr} init_voting_session \\'{{\"eid\":\"{eid}\",\"pk_eid\":\"{pk_eid}\",\"vk_eid\":\"{vk_eid}\",\"voters_addresses\":{addresses},\"rt\":\"{rt}\"}}\\' --abi {lscs_name}.abi.json --sign keys/{lscs_name}.keys.json\\n\\n'\n",
    "    print(new_cmd)\n",
    "\n",
    "def print_voter_getter_cmd(idx, addr, lscs_name, getter_name):\n",
    "    new_cmd = f'tonos-cli call {addr} {getter_name} \\'{{}}\\' --abi {lscs_name}.abi.json --sign keys/{lscs_name}{idx}.keys.json\\n\\n'\n",
    "    print(new_cmd)\n",
    "    \n",
    "def print_admin_getter_cmd(addr, lscs_name, getter_name):\n",
    "    new_cmd = f'tonos-cli call {addr} {getter_name} \\'{{}}\\' --abi {lscs_name}.abi.json --sign keys/{lscs_name}.keys.json\\n\\n'\n",
    "    print(new_cmd)"
   ]
  },
  {
   "cell_type": "code",
   "execution_count": null,
   "metadata": {},
   "outputs": [],
   "source": [
    "print_giver_cmd(admin_addr)\n",
    "\n",
    "for i in range(voters_n):\n",
    "    print_giver_cmd(voters_lscs_addreses[i])\n",
    "    print()\n",
    "    print()"
   ]
  },
  {
   "cell_type": "code",
   "execution_count": null,
   "metadata": {},
   "outputs": [],
   "source": [
    "print_custler_giver_cmd(admin_addr)\n",
    "\n",
    "for i in range(voters_n):\n",
    "    print_custler_giver_cmd(voters_lscs_addreses[i])\n",
    "    print()\n",
    "    print()"
   ]
  },
  {
   "cell_type": "code",
   "execution_count": null,
   "metadata": {},
   "outputs": [],
   "source": [
    "# print_construct_admin_cmd(admin_lscs_name, '000102030405', vkey_n[0])\n",
    "print_construct_admin_cmd_step(30000, admin_addr, admin_lscs_name, '000102030405', vkey_n[0])"
   ]
  },
  {
   "cell_type": "code",
   "execution_count": null,
   "metadata": {},
   "outputs": [],
   "source": [
    "for i in range(voters_n):\n",
    "    print_construct_voter_cmd(i, voter_lscs_name, '010203', admin_addr)\n",
    "    print()\n",
    "    print()"
   ]
  },
  {
   "cell_type": "code",
   "execution_count": null,
   "metadata": {},
   "outputs": [],
   "source": [
    "print_init_voting_cmd(admin_addr, admin_lscs_name, eid_n[0][std_size_t_size * 2:], pubkey_n[0], '0001020403', voters_lscs_addreses, rt_n[0])"
   ]
  },
  {
   "cell_type": "code",
   "execution_count": null,
   "metadata": {},
   "outputs": [],
   "source": [
    "idx = 0\n",
    "print_update_ballot_cmd_step(idx, 30000, voters_lscs_addreses[idx], voter_lscs_name, vi_n[idx])\n",
    "    "
   ]
  },
  {
   "cell_type": "code",
   "execution_count": null,
   "metadata": {},
   "outputs": [],
   "source": [
    "for i in range(voters_n):\n",
    "    print_commit_ballot_cmd(i, voters_lscs_addreses[i], voter_lscs_name, proof_end, ct_offset, eid_offset, sn_offset, sn_end)\n",
    "    print()\n",
    "    print()"
   ]
  },
  {
   "cell_type": "code",
   "execution_count": null,
   "metadata": {},
   "outputs": [],
   "source": [
    "0x40"
   ]
  },
  {
   "cell_type": "code",
   "execution_count": null,
   "metadata": {},
   "outputs": [],
   "source": [
    "idx = 0\n",
    "print_voter_getter_cmd(idx, voters_lscs_addreses[idx], voter_lscs_name, 'get_ct_sum')\n",
    "\n",
    "print_admin_getter_cmd(admin_addr, admin_lscs_name, 'get_voters_statuses')"
   ]
  },
  {
   "cell_type": "code",
   "execution_count": null,
   "metadata": {},
   "outputs": [],
   "source": []
  }
 ],
 "metadata": {
  "kernelspec": {
   "display_name": "Python 3",
   "language": "python",
   "name": "python3"
  },
  "language_info": {
   "codemirror_mode": {
    "name": "ipython",
    "version": 3
   },
   "file_extension": ".py",
   "mimetype": "text/x-python",
   "name": "python",
   "nbconvert_exporter": "python",
   "pygments_lexer": "ipython3",
   "version": "3.10.1"
  }
 },
 "nbformat": 4,
 "nbformat_minor": 4
}
