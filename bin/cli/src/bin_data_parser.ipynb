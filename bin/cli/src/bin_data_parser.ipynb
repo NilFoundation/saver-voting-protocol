{
 "cells": [
  {
   "cell_type": "code",
   "execution_count": null,
   "metadata": {},
   "outputs": [],
   "source": [
    "import binascii\n",
    "\n",
    "voters_n = 4\n",
    "path_suffix = '../../../cmake-build-release/bin/cli/'\n",
    "voters_path_suffixes = [f'{path_suffix}voter{i}/' for i in range(voters_n)]\n",
    "admin_path_suffix = f'{path_suffix}admin/'\n",
    "pk_crs_path = f'r1cs_proving_key.bin'\n",
    "vk_crs_path = f'r1cs_verification_key.bin'\n",
    "pk_eid_path = f'pk_eid.bin'\n",
    "vk_eid_path = f'vk_eid.bin'\n",
    "eid_path = f'eid.bin'\n",
    "rt_path = f'rt.bin'\n",
    "dec_proof_path = f'decryption_proof.bin'\n",
    "m_sum_path = f'voting_result.bin'\n",
    "vi_pathes = [f'r1cs_verification_input{i}.bin' for i in range(voters_n)]\n",
    "proof_pathes = [f'r1cs_proof{i}.bin' for i in range(voters_n)]\n",
    "pk_pathes = [f'voter_public_key{i}.bin' for i in range(voters_n)]\n",
    "ct_pathes = [f'cipher_text{i}.bin' for i in range(voters_n)]\n",
    "sn_pathes = [f'sn{i}.bin' for i in range(voters_n)]\n",
    "\n",
    "genaddr_suffix = '../../../share/tvm/genaddr-output/'\n",
    "admmin_genaddr_path = f'{genaddr_suffix}genaddr-output.txt'\n",
    "voters_genaddr_pathes = [f'{genaddr_suffix}genaddr-output{i}.txt' for i in range(voters_n)]\n",
    "\n",
    "admin_lscs_name = 'voting_admin'\n",
    "voter_lscs_name = 'voting_voter'\n"
   ]
  },
  {
   "cell_type": "code",
   "execution_count": null,
   "metadata": {},
   "outputs": [],
   "source": []
  },
  {
   "cell_type": "code",
   "execution_count": null,
   "metadata": {},
   "outputs": [],
   "source": [
    "def read_data(path, prefix = ''):\n",
    "    with open(path, 'rb') as f:\n",
    "        hexdata = binascii.hexlify(f.read())\n",
    "        hexdata_str = prefix + hexdata.decode(\"ascii\")\n",
    "#         print(path)\n",
    "#         print(hexdata_str)\n",
    "#         print()\n",
    "        return hexdata_str\n",
    "    \n",
    "\n",
    "# pk_crs = read_data(pk_crs_path)\n",
    "\n",
    "# vk_crs = read_data(vk_crs_path)\n",
    "\n",
    "# pk_eid = read_data(pk_eid_path)\n",
    "\n",
    "# vk_eid = read_data(vk_eid_path)\n",
    "\n",
    "# eid = read_data(eid_path)\n",
    "\n",
    "# rt = read_data(rt_path)\n",
    "\n",
    "# dec_proof = read_data(dec_proof_path)\n",
    "\n",
    "# m_sum = read_data(m_sum_path)\n",
    "\n",
    "# vi_n = []\n",
    "# for vi_path in vi_pathes:\n",
    "#     vi_n.append(read_data(vi_path, '01'))\n",
    "\n",
    "# sn_n = []\n",
    "# for sn_path in sn_pathes:\n",
    "#     sn_n.append(read_data(sn_path))\n",
    "\n",
    "# proof_n = []\n",
    "# for proof_path in proof_pathes:\n",
    "#     proof_n.append(read_data(proof_path))\n",
    "\n",
    "# pk_n = []\n",
    "# for pk_path in pk_pathes:\n",
    "#     pk_n.append(read_data(pk_path))\n",
    "\n",
    "# ct_n = []\n",
    "# for ct_path in ct_pathes:\n",
    "#     ct_n.append(read_data(ct_path))\n",
    "\n"
   ]
  },
  {
   "cell_type": "code",
   "execution_count": null,
   "metadata": {},
   "outputs": [],
   "source": [
    "import os.path\n",
    "\n",
    "def write_data(path, hexstr_data, offset = 0, prefix = ''):\n",
    "    if os.path.isfile(path):\n",
    "        print(f'File {path} already exists and won\\'t be overwritten')\n",
    "        return\n",
    "    with open(path, 'wb') as f:\n",
    "        f.write(bytes.fromhex(prefix + hexstr_data[offset:]))\n",
    "    \n"
   ]
  },
  {
   "cell_type": "code",
   "execution_count": null,
   "metadata": {},
   "outputs": [],
   "source": [
    "import re\n",
    "\n",
    "def find_address(path):\n",
    "    addr = ''\n",
    "    with open(path, 'r') as f:\n",
    "        output = f.read()\n",
    "    m = re.search(r'Raw address: (.+?)\\n', output)\n",
    "    if m:\n",
    "        addr = m.group(1)\n",
    "        print(addr)\n",
    "    \n",
    "    return addr\n",
    "\n",
    "\n",
    "admin_addr = find_address(admmin_genaddr_path)\n",
    "\n",
    "voters_lscs_addreses = []\n",
    "for voter_genaddr_path in voters_genaddr_pathes:\n",
    "    voters_lscs_addreses.append(find_address(voter_genaddr_path))\n"
   ]
  },
  {
   "cell_type": "code",
   "execution_count": null,
   "metadata": {},
   "outputs": [],
   "source": []
  },
  {
   "cell_type": "code",
   "execution_count": null,
   "metadata": {},
   "outputs": [],
   "source": [
    "fr_size = 32\n",
    "g1_size = 48\n",
    "std_size_t_size = 8\n",
    "proof_len = 3 * g1_size\n",
    "eid_len = 64 * fr_size\n",
    "sn_len = 255 * fr_size\n",
    "\n",
    "eid_prefix = eid[:std_size_t_size * 2]\n",
    "sn_prefix = sn_n[0][:std_size_t_size * 2]\n",
    "rt_prefix = rt[:std_size_t_size * 2]\n",
    "\n",
    "# proof_end = 1 + len(proof_n[0]) // 2\n",
    "# ct_offset = 1 + len(proof_n[0]) // 2 + len(vk_crs) // 2 + len(pk_eid) // 2\n",
    "# ct_end = ct_offset + len(ct_n[0]) // 2\n",
    "# eid_offset = ct_end + std_size_t_size\n",
    "# sn_offset = eid_offset + eid_len\n",
    "# rt_offset = sn_offset + sn_len\n",
    "\n",
    "# print(proof_n[0])\n",
    "# assert vi_n[0][ct_offset*2:ct_end*2] == ct_n[0]\n",
    "# assert eid_prefix + vi_n[0][eid_offset*2:sn_offset*2] == eid\n",
    "# assert sn_prefix + vi_n[0][sn_offset*2:rt_offset*2] == sn_n[0]\n",
    "# assert rt_prefix + vi_n[0][rt_offset*2:] == rt"
   ]
  },
  {
   "cell_type": "code",
   "execution_count": null,
   "metadata": {},
   "outputs": [],
   "source": [
    "# def print_update_ballot_cmd(idx, addr, lscs_name, eid, sn, proof_rerand, ct_rerand):\n",
    "#     new_cmd = f'tonos-cli call {addr} update_ballot \\'{{\"eid\":\"{eid}\", \"sn\":\"{sn}\", \"proof_rerand\":\"{proof_rerand}\", \"ct_rerand\":\"{ct_rerand}\"}}\\' --abi {lscs_name}.abi.json --sign keys/{lscs_name}{idx}.keys.json\\n\\n'\n",
    "#     print(new_cmd)\n",
    "\n",
    "\n",
    "# def print_update_ballot_cmd_step(idx, step, addr, lscs_name, eid, sn, proof_rerand, ct_rerand):\n",
    "#     for i in range(0, len(eid), step):\n",
    "#         new_cmd = f'tonos-cli call {addr} update_ballot \\'{{\"eid\":\"{eid[i: i + step]}\", \"sn\":\"\", \"proof_rerand\":\"\", \"ct_rerand\":\"\"}}\\' --abi {lscs_name}.abi.json --sign keys/{lscs_name}{idx}.keys.json\\n\\n'\n",
    "#         print(new_cmd)\n",
    "#         print()\n",
    "\n",
    "#     for i in range(0, len(sn), step):\n",
    "#         new_cmd = f'tonos-cli call {addr} update_ballot \\'{{\"eid\":\"\", \"sn\":\"{sn[i: i + step]}\", \"proof_rerand\":\"\", \"ct_rerand\":\"\"}}\\' --abi {lscs_name}.abi.json --sign keys/{lscs_name}{idx}.keys.json\\n\\n'\n",
    "#         print(new_cmd)\n",
    "#         print()\n",
    "\n",
    "#     for i in range(0, len(proof_rerand), step):\n",
    "#         new_cmd = f'tonos-cli call {addr} update_ballot \\'{{\"eid\":\"\", \"sn\":\"\", \"proof_rerand\":\"{proof_rerand[i: i + step]}\", \"ct_rerand\":\"\"}}\\' --abi {lscs_name}.abi.json --sign keys/{lscs_name}{idx}.keys.json\\n\\n'\n",
    "#         print(new_cmd)\n",
    "#         print()\n",
    "\n",
    "#     for i in range(0, len(ct_rerand), step):\n",
    "#         new_cmd = f'tonos-cli call {addr} update_ballot \\'{{\"eid\":\"\", \"sn\":\"\", \"proof_rerand\":\"\", \"ct_rerand\":\"{ct_rerand[i: i + step]}\"}}\\' --abi {lscs_name}.abi.json --sign keys/{lscs_name}{idx}.keys.json\\n\\n'\n",
    "#         print(new_cmd)\n",
    "#         print()\n",
    "\n",
    "\n",
    "def print_update_ballot_cmd_step(idx, step, addr, lscs_name, vi):\n",
    "    for i in range(0, len(vi), step):\n",
    "        new_cmd = f'tonos-cli call {addr} update_ballot \\'{{\"vi\":\"{vi[i: i + step]}\"}}\\' --abi {lscs_name}.abi.json --sign keys/{lscs_name}{idx}.keys.json\\n\\n'\n",
    "        print(new_cmd)\n",
    "        print()\n",
    "\n",
    "def print_commit_ballot_cmd(idx, addr, lscs_name, proof_end, ct_begin, ct_end, eid_begin, sn_begin, rt_begin):\n",
    "    new_cmd = f'tonos-cli call {addr} commit_ballot \\'{{\"proof_end\":{proof_end},\"ct_begin\":{ct_begin},\"ct_end\":{ct_end},\"eid_begin\":{eid_begin},\"sn_begin\":{sn_begin},\"rt_begin\":{rt_begin} }}\\' --abi {lscs_name}.abi.json --sign keys/{lscs_name}{idx}.keys.json\\n\\n'\n",
    "    print(new_cmd)\n",
    "\n",
    "    \n",
    "def print_update_tally_cmd_step(step, addr, lscs_name, ct_sum, m_sum, dec_proof):\n",
    "    for i in range(0, len(ct_sum), step):\n",
    "        new_cmd = f'tonos-cli call {addr} update_tally \\'{{\"ct_sum\":\"{ct_sum[i: i + step]}\",\"m_sum\":\"\",\"dec_proof\":\"\"}}\\' --abi {lscs_name}.abi.json --sign keys/{lscs_name}.keys.json\\n\\n'\n",
    "        print(new_cmd)\n",
    "        print()\n",
    "    \n",
    "    for i in range(0, len(m_sum), step):\n",
    "        new_cmd = f'tonos-cli call {addr} update_tally \\'{{\"ct_sum\":\"\",\"m_sum\":\"{m_sum[i: i + step]}\",\"dec_proof\":\"\"}}\\' --abi {lscs_name}.abi.json --sign keys/{lscs_name}.keys.json\\n\\n'\n",
    "        print(new_cmd)\n",
    "        print()\n",
    "    \n",
    "    for i in range(0, len(dec_proof), step):\n",
    "        new_cmd = f'tonos-cli call {addr} update_tally \\'{{\"ct_sum\":\"\",\"m_sum\":\"\",\"dec_proof\":\"{dec_proof[i: i + step]}\"}}\\' --abi {lscs_name}.abi.json --sign keys/{lscs_name}.keys.json\\n\\n'\n",
    "        print(new_cmd)\n",
    "        print()\n",
    "\n",
    "def print_commit_tally_cmd(addr, lscs_name):\n",
    "    new_cmd = f'tonos-cli call {addr} commit_tally \\'{{}}\\' --abi {lscs_name}.abi.json --sign keys/{lscs_name}.keys.json\\n\\n'\n",
    "    print(new_cmd)\n",
    "\n",
    "# def print_update_session_data_cmd_step(idx, step, addr, lscs_name, crs_vk, pk_eid, rt):\n",
    "#     for i in range(0, len(crs_vk), step):\n",
    "#         new_cmd = f'tonos-cli call {addr} update_session_data \\'{{\"crs_vk\":\"{crs_vk[i: i + step]}\", \"pk_eid\":\"\", \"rt\":\"\"}}\\' --abi {lscs_name}.abi.json --sign keys/{lscs_name}{idx}.keys.json\\n\\n'\n",
    "#         print(new_cmd)\n",
    "#         print()\n",
    "\n",
    "#     for i in range(0, len(pk_eid), step):\n",
    "#         new_cmd = f'tonos-cli call {addr} update_session_data \\'{{\"crs_vk\":\"\", \"pk_eid\":\"{pk_eid[i: i + step]}\", \"rt\":\"\"}}\\' --abi {lscs_name}.abi.json --sign keys/{lscs_name}{idx}.keys.json\\n\\n'\n",
    "#         print(new_cmd)\n",
    "#         print()\n",
    "\n",
    "#     for i in range(0, len(rt), step):\n",
    "#         new_cmd = f'tonos-cli call {addr} update_session_data \\'{{\"crs_vk\":\"\", \"pk_eid\":\"\", \"rt\":\"{rt[i: i + step]}\"}}\\' --abi {lscs_name}.abi.json --sign keys/{lscs_name}{idx}.keys.json\\n\\n'\n",
    "#         print(new_cmd)\n",
    "#         print()\n",
    "        \n",
    "        \n",
    "def print_deploy_admin_cmd(addr, lscs_name):\n",
    "    new_cmd = f'tonos-cli deploy --abi {lscs_name}.abi.json --sign keys/{lscs_name}.keys.json {lscs_name}.tvc \\'{{}}\\'\\n\\n'\n",
    "    print(new_cmd)  \n",
    "\n",
    "    \n",
    "def print_update_crs_admin_cmd_step(step, addr, lscs_name, pk, vk):\n",
    "    for i in range(0, len(pk), step):\n",
    "        new_cmd = f'tonos-cli call {addr} update_crs \\'{{\"pk\":\"{pk[i: i + step]}\", \"vk\":\"\"}}\\' --abi {lscs_name}.abi.json --sign keys/{lscs_name}.keys.json\\n\\n'\n",
    "        print(new_cmd)\n",
    "        print()\n",
    "    \n",
    "    for i in range(0, len(vk), step):\n",
    "        new_cmd = f'tonos-cli call {addr} update_crs \\'{{\"pk\":\"\", \"vk\":\"{vk[i: i + step]}\"}}\\' --abi {lscs_name}.abi.json --sign keys/{lscs_name}.keys.json\\n\\n'\n",
    "        print(new_cmd)\n",
    "        print()\n",
    "\n",
    "\n",
    "def print_construct_voter_cmd(idx, lscs_name, pk, admin_addr):\n",
    "    new_cmd = f'tonos-cli deploy --abi {lscs_name}.abi.json --sign keys/{lscs_name}{idx}.keys.json {lscs_name}.tvc \\'{{\"pk\":\"{pk}\", \"admin\":\"{admin_addr}\"}}\\'\\n\\n'\n",
    "    print(new_cmd)  \n",
    "    \n",
    "    \n",
    "def print_giver_cmd(addr):\n",
    "    new_cmd = f'tonos-cli call 0:ece57bcc6c530283becbbd8a3b24d3c5987cdddc3c8b7b33be6e4a6312490415 sendTransaction \\'{{\"dest\":\"{addr}\",\"value\":\"100000000000\",\"bounce\":false}}\\' --abi GiverV2.abi.json --sign GiverV2.keys.json\\n\\n'\n",
    "    print(new_cmd)  \n",
    "\n",
    "def print_custler_giver_cmd(addr):\n",
    "    print('. ./env.sh')\n",
    "    print(f'DST_ACCOUNT=\"{addr}\"')\n",
    "    print('$CALL_TC call \"$Marvin_Addr\" grant \"{\\\\\"addr\\\\\":\\\\\"$DST_ACCOUNT\\\\\"}\" --abi \"${Marvin_ABI}\"')\n",
    "\n",
    "def print_init_voting_cmd(admin_addr, lscs_name, eid, pk_eid, vk_eid, voters_addr, rt):\n",
    "    addresses = '[' + ','.join(f'\"{addr}\"' for addr in voters_addr) + ']'\n",
    "    new_cmd = f'tonos-cli call {admin_addr} init_voting_session \\'{{\"eid\":\"{eid}\",\"pk_eid\":\"{pk_eid}\",\"vk_eid\":\"{vk_eid}\",\"voters_addresses\":{addresses},\"rt\":\"{rt}\"}}\\' --abi {lscs_name}.abi.json --sign keys/{lscs_name}.keys.json\\n\\n'\n",
    "    print(new_cmd)\n",
    "\n",
    "def print_voter_getter_cmd(idx, addr, lscs_name, getter_name):\n",
    "    new_cmd = f'tonos-cli call {addr} {getter_name} \\'{{}}\\' --abi {lscs_name}.abi.json --sign keys/{lscs_name}{idx}.keys.json\\n\\n'\n",
    "    print(new_cmd)\n",
    "    \n",
    "def print_admin_getter_cmd(addr, lscs_name, getter_name):\n",
    "    new_cmd = f'tonos-cli call {addr} {getter_name} \\'{{}}\\' --abi {lscs_name}.abi.json --sign keys/{lscs_name}.keys.json\\n\\n'\n",
    "    print(new_cmd)\n",
    "\n",
    "def print_getter_cmd(addr, lscs_name, getter_name):\n",
    "    new_cmd = f'tonos-cli call {addr} {getter_name} \\'{{}}\\' --abi {lscs_name}.abi.json\\n\\n'\n",
    "    print(new_cmd)"
   ]
  },
  {
   "cell_type": "code",
   "execution_count": null,
   "metadata": {},
   "outputs": [],
   "source": [
    "print_giver_cmd(admin_addr)\n",
    "\n",
    "for i in range(voters_n):\n",
    "    print_giver_cmd(voters_lscs_addreses[i])\n",
    "    print()\n",
    "    print()"
   ]
  },
  {
   "cell_type": "code",
   "execution_count": null,
   "metadata": {},
   "outputs": [],
   "source": [
    "print_custler_giver_cmd(admin_addr)\n",
    "print()\n",
    "\n",
    "for i in range(voters_n):\n",
    "    print_custler_giver_cmd(voters_lscs_addreses[i])\n",
    "    print()"
   ]
  },
  {
   "cell_type": "code",
   "execution_count": null,
   "metadata": {},
   "outputs": [],
   "source": [
    "# print_construct_admin_cmd(admin_lscs_name, '000102030405', vkey_n[0])\n",
    "print_construct_admin_cmd_step(30000, admin_addr, admin_lscs_name, '010203', vk_crs)"
   ]
  },
  {
   "cell_type": "code",
   "execution_count": null,
   "metadata": {},
   "outputs": [],
   "source": [
    "for i in range(voters_n):\n",
    "    print_construct_voter_cmd(i, voter_lscs_name, pk_n[i], admin_addr)\n",
    "    print()"
   ]
  },
  {
   "cell_type": "code",
   "execution_count": null,
   "metadata": {},
   "outputs": [],
   "source": [
    "print_init_voting_cmd(admin_addr, admin_lscs_name, eid[std_size_t_size * 2:], pk_eid, vk_eid, voters_lscs_addreses, rt[std_size_t_size * 2:])"
   ]
  },
  {
   "cell_type": "code",
   "execution_count": null,
   "metadata": {},
   "outputs": [],
   "source": [
    "idx = 0\n",
    "print_update_ballot_cmd_step(idx, 30000, voters_lscs_addreses[idx], voter_lscs_name, vi_n[idx])\n",
    "    "
   ]
  },
  {
   "cell_type": "code",
   "execution_count": null,
   "metadata": {},
   "outputs": [],
   "source": [
    "for i in range(voters_n):\n",
    "    print_commit_ballot_cmd(i, voters_lscs_addreses[i], voter_lscs_name, proof_end, ct_offset, ct_end, eid_offset, sn_offset, rt_offset)\n",
    "    print()\n",
    "    print()"
   ]
  },
  {
   "cell_type": "code",
   "execution_count": null,
   "metadata": {},
   "outputs": [],
   "source": [
    "print_update_tally_cmd_step(30000, admin_addr, admin_lscs_name, '', m_sum, dec_proof)\n",
    "print_commit_tally_cmd(admin_addr, admin_lscs_name)"
   ]
  },
  {
   "cell_type": "code",
   "execution_count": null,
   "metadata": {},
   "outputs": [],
   "source": []
  },
  {
   "cell_type": "code",
   "execution_count": null,
   "metadata": {},
   "outputs": [],
   "source": [
    "idx = 0\n",
    "print_voter_getter_cmd(idx, voters_lscs_addreses[idx], voter_lscs_name, 'get_ct')\n",
    "\n",
    "print_admin_getter_cmd(admin_addr, admin_lscs_name, 'get_voters_statuses')"
   ]
  },
  {
   "cell_type": "code",
   "execution_count": null,
   "metadata": {},
   "outputs": [],
   "source": []
  },
  {
   "cell_type": "code",
   "execution_count": null,
   "metadata": {},
   "outputs": [],
   "source": []
  },
  {
   "cell_type": "code",
   "execution_count": null,
   "metadata": {},
   "outputs": [],
   "source": []
  },
  {
   "cell_type": "code",
   "execution_count": null,
   "metadata": {},
   "outputs": [],
   "source": []
  },
  {
   "cell_type": "code",
   "execution_count": null,
   "metadata": {},
   "outputs": [],
   "source": []
  },
  {
   "cell_type": "code",
   "execution_count": null,
   "metadata": {},
   "outputs": [],
   "source": []
  },
  {
   "cell_type": "code",
   "execution_count": null,
   "metadata": {},
   "outputs": [],
   "source": []
  },
  {
   "cell_type": "code",
   "execution_count": null,
   "metadata": {},
   "outputs": [],
   "source": []
  },
  {
   "cell_type": "code",
   "execution_count": null,
   "metadata": {},
   "outputs": [],
   "source": []
  },
  {
   "cell_type": "code",
   "execution_count": null,
   "metadata": {},
   "outputs": [],
   "source": []
  },
  {
   "cell_type": "code",
   "execution_count": null,
   "metadata": {},
   "outputs": [],
   "source": [
    "def voter_init_phase(i, voter_lscs_name, pk_path, admin_addr):\n",
    "    \n",
    "    print(f'./cli --phase init_voter --voter-idx {i}')\n",
    "    # result -> pk{i}.bin\n",
    "    \n",
    "    pk = read_data(pk_path)\n",
    "    print_construct_voter_cmd(i, voter_lscs_name, pk, admin_addr)"
   ]
  },
  {
   "cell_type": "code",
   "execution_count": null,
   "metadata": {},
   "outputs": [],
   "source": [
    "i = 3\n",
    "voter_init_phase(i, voter_lscs_name, f'{voters_path_suffixes[i]}{pk_pathes[i]}', admin_addr)"
   ]
  },
  {
   "cell_type": "code",
   "execution_count": null,
   "metadata": {},
   "outputs": [],
   "source": []
  },
  {
   "cell_type": "code",
   "execution_count": null,
   "metadata": {},
   "outputs": [],
   "source": [
    "def admin_init_phase_save_voter_pk(admin_path_suffix, path, pk):\n",
    "    write_data(f'{admin_path_suffix}{path}', pk)\n",
    "    \n",
    "def admin_init_phase(admin_addr, admin_lscs_name, admin_path_suffix, vk_crs_path, pk_eid_path, vk_eid_path, eid_path, rt_path, voters_lscs_addreses):\n",
    "    print('./cli --phase init_admin')\n",
    "    # result -> rt.bin, eid.bin, r1cs_proving_key.bin, r1cs_verification_key.bin, pk_eid.bin, vk_eid.bin\n",
    "    \n",
    "    std_size_t_size = 8\n",
    "    # pk_crs = read_data(pk_crs_path)\n",
    "    vk_crs = read_data(f'{admin_path_suffix}{vk_crs_path}')\n",
    "    pk_eid = read_data(f'{admin_path_suffix}{pk_eid_path}')\n",
    "    vk_eid = read_data(f'{admin_path_suffix}{vk_eid_path}')\n",
    "    eid = read_data(f'{admin_path_suffix}{eid_path}')\n",
    "    rt = read_data(f'{admin_path_suffix}{rt_path}')\n",
    "    \n",
    "    print_update_crs_admin_cmd_step(30000, admin_addr, admin_lscs_name, '010203', vk_crs)\n",
    "    print()\n",
    "    print_init_voting_cmd(admin_addr, admin_lscs_name, eid[std_size_t_size * 2:], pk_eid, vk_eid, voters_lscs_addreses, rt[std_size_t_size * 2:])"
   ]
  },
  {
   "cell_type": "code",
   "execution_count": null,
   "metadata": {},
   "outputs": [],
   "source": [
    "print_deploy_admin_cmd(admin_addr, admin_lscs_name)"
   ]
  },
  {
   "cell_type": "code",
   "execution_count": null,
   "metadata": {},
   "outputs": [],
   "source": [
    "for i in range(voters_n):\n",
    "    print_getter_cmd(voters_lscs_addreses[i], voter_lscs_name, 'get_pk')"
   ]
  },
  {
   "cell_type": "code",
   "execution_count": null,
   "metadata": {},
   "outputs": [],
   "source": [
    "i = 3\n",
    "admin_init_phase_save_voter_pk(admin_path_suffix, pk_pathes[i], '')"
   ]
  },
  {
   "cell_type": "code",
   "execution_count": null,
   "metadata": {},
   "outputs": [],
   "source": [
    "admin_init_phase(admin_addr, admin_lscs_name, admin_path_suffix, vk_crs_path, pk_eid_path, vk_eid_path, eid_path, rt_path, voters_lscs_addreses)"
   ]
  },
  {
   "cell_type": "code",
   "execution_count": null,
   "metadata": {},
   "outputs": [],
   "source": []
  },
  {
   "cell_type": "code",
   "execution_count": null,
   "metadata": {},
   "outputs": [],
   "source": [
    "def voter_vote_phase(idx, voter_lscs_addres, voter_lscs_name, voter_path_suffix):\n",
    "    print(f'./cli --phase vote --voter-idx {i}')\n",
    "    #result -> r1cs_verification_input{i}.bin\n",
    "    \n",
    "    vi = read_data(f'{voter_path_suffix}{vi_pathes[idx]}', '01')\n",
    "    \n",
    "    proof = read_data(f'{voter_path_suffix}{proof_pathes[idx]}')\n",
    "    vk_crs = read_data(f'{voter_path_suffix}{vk_crs_path}')\n",
    "    pk_eid = read_data(f'{voter_path_suffix}{pk_eid_path}')\n",
    "    ct = read_data(f'{voter_path_suffix}{ct_pathes[idx]}')\n",
    "    eid = read_data(f'{voter_path_suffix}{eid_path}')\n",
    "    sn = read_data(f'{voter_path_suffix}{sn_pathes[idx]}')\n",
    "    rt = read_data(f'{voter_path_suffix}{rt_path}')\n",
    "    \n",
    "    \n",
    "    fr_size = 32\n",
    "    g1_size = 48\n",
    "    std_size_t_size = 8\n",
    "    proof_len = 3 * g1_size\n",
    "    eid_len = 64 * fr_size\n",
    "    sn_len = 255 * fr_size\n",
    "\n",
    "    eid_prefix = eid[:std_size_t_size * 2]\n",
    "    sn_prefix = sn[:std_size_t_size * 2]\n",
    "    rt_prefix = rt[:std_size_t_size * 2]\n",
    "\n",
    "    proof_end = 1 + len(proof) // 2\n",
    "    ct_offset = 1 + len(proof) // 2 + len(vk_crs) // 2 + len(pk_eid) // 2\n",
    "    ct_end = ct_offset + len(ct) // 2\n",
    "    eid_offset = ct_end + std_size_t_size\n",
    "    sn_offset = eid_offset + eid_len\n",
    "    rt_offset = sn_offset + sn_len\n",
    "    \n",
    "    \n",
    "    print_update_ballot_cmd_step(idx, 30000, voter_lscs_addres, voter_lscs_name, vi)\n",
    "    print_commit_ballot_cmd(idx, voter_lscs_addres, voter_lscs_name, proof_end, ct_offset, ct_end, eid_offset, sn_offset, rt_offset)\n"
   ]
  },
  {
   "cell_type": "code",
   "execution_count": null,
   "metadata": {},
   "outputs": [],
   "source": [
    "# print_getter_cmd(admin_addr, admin_lscs_name, 'get_crs_pk')\n",
    "print_getter_cmd(admin_addr, admin_lscs_name, 'get_crs_vk')\n",
    "print_getter_cmd(admin_addr, admin_lscs_name, 'get_vk_eid')\n",
    "print_getter_cmd(admin_addr, admin_lscs_name, 'get_pk_eid')\n",
    "print_getter_cmd(admin_addr, admin_lscs_name, 'get_eid')\n",
    "print_getter_cmd(admin_addr, admin_lscs_name, 'get_rt')"
   ]
  },
  {
   "cell_type": "code",
   "execution_count": null,
   "metadata": {},
   "outputs": [],
   "source": [
    "idx = 3\n",
    "for i in range(voters_n):\n",
    "    if idx != i:\n",
    "        print_getter_cmd(voters_lscs_addreses[i], voter_lscs_name, 'get_pk')"
   ]
  },
  {
   "cell_type": "code",
   "execution_count": null,
   "metadata": {},
   "outputs": [],
   "source": [
    "i = 3\n",
    "\n",
    "# TODO: pk_crs\n",
    "# write_data(f'{voters_path_suffixes[i]}{pk_crs_path}', '')\n",
    "write_data(f'{voters_path_suffixes[i]}{vk_crs_path}', '')\n",
    "write_data(f'{voters_path_suffixes[i]}{vk_eid_path}', '')\n",
    "write_data(f'{voters_path_suffixes[i]}{pk_eid_path}', '')\n",
    "write_data(f'{voters_path_suffixes[i]}{eid_path}', eid_prefix + '')\n",
    "write_data(f'{voters_path_suffixes[i]}{rt_path}', rt_prefix + '')\n",
    "\n",
    "voters_pk_for_i = ['',\\\n",
    "                  '',\\\n",
    "                  '']\n",
    "\n",
    "l = 0\n",
    "for j in range(voters_n):\n",
    "    if i != j:\n",
    "        write_data(f'{voters_path_suffixes[i]}{pk_pathes[j]}', voters_pk_for_i[l])\n",
    "        l += 1"
   ]
  },
  {
   "cell_type": "code",
   "execution_count": null,
   "metadata": {},
   "outputs": [],
   "source": [
    "i = 3\n",
    "voter_vote_phase(i, voters_lscs_addreses[i], voter_lscs_name, voters_path_suffixes[i])"
   ]
  },
  {
   "cell_type": "code",
   "execution_count": null,
   "metadata": {},
   "outputs": [],
   "source": []
  },
  {
   "cell_type": "code",
   "execution_count": null,
   "metadata": {},
   "outputs": [],
   "source": [
    "def admin_tally_phase(admin_addr, admin_lscs_name, admin_path_suffix):\n",
    "    print('./cli --phase tally_admin')\n",
    "    # result -> voting_result.bin, decryption_proof.bin\n",
    "    \n",
    "    m_sum = read_data(f'{admin_path_suffix}{m_sum_path}')\n",
    "    dec_proof = read_data(f'{admin_path_suffix}{dec_proof_path}')\n",
    "    \n",
    "    print_update_tally_cmd_step(30000, admin_addr, admin_lscs_name, '', m_sum, dec_proof)\n",
    "    print()\n",
    "    print_commit_tally_cmd(admin_addr, admin_lscs_name)"
   ]
  },
  {
   "cell_type": "code",
   "execution_count": null,
   "metadata": {},
   "outputs": [],
   "source": [
    "for i in range(voters_n):\n",
    "    print_getter_cmd(voters_lscs_addreses[i], voter_lscs_name, 'get_ct')"
   ]
  },
  {
   "cell_type": "code",
   "execution_count": null,
   "metadata": {},
   "outputs": [],
   "source": [
    "i = 3\n",
    "write_data(f'{admin_path_suffix}{ct_pathes[i]}', '')"
   ]
  },
  {
   "cell_type": "code",
   "execution_count": null,
   "metadata": {},
   "outputs": [],
   "source": [
    "admin_tally_phase(admin_addr, admin_lscs_name, admin_path_suffix)"
   ]
  },
  {
   "cell_type": "code",
   "execution_count": null,
   "metadata": {},
   "outputs": [],
   "source": []
  },
  {
   "cell_type": "code",
   "execution_count": null,
   "metadata": {},
   "outputs": [],
   "source": [
    "def voter_tally_phase():\n",
    "    print('./cli --phase tally_voter')"
   ]
  },
  {
   "cell_type": "code",
   "execution_count": null,
   "metadata": {},
   "outputs": [],
   "source": [
    "print_getter_cmd(admin_addr, admin_lscs_name, 'get_m_sum')\n",
    "print_getter_cmd(admin_addr, admin_lscs_name, 'get_dec_proof')\n"
   ]
  },
  {
   "cell_type": "code",
   "execution_count": null,
   "metadata": {},
   "outputs": [],
   "source": [
    "idx = 0\n",
    "for i in range(voters_n):\n",
    "    if idx != i:\n",
    "        print_getter_cmd(voters_lscs_addreses[i], voter_lscs_name, 'get_ct')"
   ]
  },
  {
   "cell_type": "code",
   "execution_count": null,
   "metadata": {},
   "outputs": [],
   "source": [
    "i = 0\n",
    "write_data(f'{voters_path_suffixes[i]}{m_sum_path}', '')\n",
    "write_data(f'{voters_path_suffixes[i]}{dec_proof_path}', '')\n",
    "\n",
    "voters_ct_for_i = ['',\\\n",
    "                  '',\\\n",
    "                  '']\n",
    "\n",
    "l = 0\n",
    "for j in range(voters_n):\n",
    "    if i != j:\n",
    "        write_data(f'{voters_path_suffixes[i]}{ct_pathes[j]}', voters_ct_for_i[l])\n",
    "        l += 1"
   ]
  },
  {
   "cell_type": "code",
   "execution_count": null,
   "metadata": {},
   "outputs": [],
   "source": [
    "voter_tally_phase()"
   ]
  },
  {
   "cell_type": "code",
   "execution_count": null,
   "metadata": {},
   "outputs": [],
   "source": []
  }
 ],
 "metadata": {
  "kernelspec": {
   "display_name": "Python 3",
   "language": "python",
   "name": "python3"
  },
  "language_info": {
   "codemirror_mode": {
    "name": "ipython",
    "version": 3
   },
   "file_extension": ".py",
   "mimetype": "text/x-python",
   "name": "python",
   "nbconvert_exporter": "python",
   "pygments_lexer": "ipython3",
   "version": "3.10.1"
  }
 },
 "nbformat": 4,
 "nbformat_minor": 4
}
